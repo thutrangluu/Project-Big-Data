{
 "cells": [
  {
   "cell_type": "markdown",
   "metadata": {
    "pycharm": {
     "name": "#%% md\n"
    }
   },
   "source": [
    "Before you turn this problem in, make sure everything runs as expected. First, **restart the kernel** (in the menubar, select Kernel$\\rightarrow$Restart) and then **run all cells** (in the menubar, select Cell$\\rightarrow$Run All).\n",
    "\n",
    "Make sure you fill in any place that says `YOUR CODE HERE` (you should of course delete `raise NotImplementedError()` which is there only as reminder), while not modifying the other cells (but you should run them to check the output you obtain). Please also fill in your group number, your full names, and your VU IDs below:"
   ]
  },
  {
   "cell_type": "code",
   "execution_count": 1,
   "metadata": {
    "pycharm": {
     "name": "#%%\n"
    }
   },
   "outputs": [],
   "source": [
    "STUDENT_FIRST_NAME = \"Thu Trang\" # e.g. \"John\" (no \"J\", no \"J.\", no \"John S.M.\")\n",
    "STUDENT_LAST_NAME = \"Luu\"  # e.g. \"Smith\"\n",
    "VU_ID_NUM = \"2695303\"          # e.g. \"2789012\""
   ]
  },
  {
   "cell_type": "markdown",
   "metadata": {
    "pycharm": {
     "name": "#%% md\n"
    }
   },
   "source": [
    "---"
   ]
  },
  {
   "cell_type": "markdown",
   "metadata": {
    "deletable": false,
    "editable": false,
    "nbgrader": {
     "cell_type": "markdown",
     "checksum": "f061ea4445b898bd440a393bc80bea7c",
     "grade": false,
     "grade_id": "intro",
     "locked": true,
     "schema_version": 3,
     "solution": false,
     "task": false
    },
    "pycharm": {
     "name": "#%% md\n"
    }
   },
   "source": [
    "# Assignment 1\n",
    "\n",
    "The goal of this assignment is to make you familiar with Python's syntax, data types, and file I/O. This assignment is divided into 8 exercises, which are worth different amount of points (total is 100 points).\n",
    "\n",
    "We assume that the folder that you work in is the one obtained by unzipping the given ``assignment1.zip`` file and thus has the following structure.\n",
    "\n",
    "<code>\n",
    "assignment01.ipynb\n",
    "data/...\n",
    "</code>\n",
    "\n",
    "In particular, the subfolder data should have 16 files.\n",
    "\n",
    "## Important remarks\n",
    "- **Working together**: You are meant to work individually on the first three assignments. You can, of course, brainstorm ideas and discuss issues with your fellow students, but you are required to write your solutions individually. \n",
    "- **Plagiarism**: All your code will be automatically scanned for plagiarism. Furthermore, using the internet as a passive resource is allowed. This means that you can search for help there and partially copy code, as long as you explicitly acknowledge inside your Jupyter notebook which parts have been copied and from where. \n",
    "- **Performance**: You should optimize the computational performance of your functions. Specifically, when grading the assignments, we set a hard limit of 15 seconds for each cell execution. This should be sufficient to cover each of the test cases. Function calls that take longer than 15 seconds will not be awarded any points.\n",
    "- **Code styling**: Your implementation will not be checked for style. However, we do encourage you to practice good code styling. See, for example, https://docs.python-guide.org/writing/style/.\n",
    "- **Chronological run**: All outputs should be repeatable by doing one full “chronological” run of the notebook without any manual changes to code blocks, including parameters. (try it yourself by clicking ``Kernel -> Restart and run all``, which should give the result as handed in).\n",
    "- **Handing in**: Hand in the .ipynb file of your notebook on ``Canvas`` before the assignment deadline. \n",
    "- **Other questions**: If you have doubts/questions about the assignments, feel free to ask them in [this discussion thread](https://canvas.vu.nl/courses/60060/discussion_topics/528045) so that everyone can will be able to see them and our answers. "
   ]
  },
  {
   "cell_type": "code",
   "execution_count": 1,
   "metadata": {
    "ExecuteTime": {
     "end_time": "2022-05-05T01:23:07.478739Z",
     "start_time": "2022-05-05T01:23:07.476426Z"
    },
    "deletable": false,
    "editable": false,
    "nbgrader": {
     "cell_type": "code",
     "checksum": "a72419d6f385aa416338a1073c523b38",
     "grade": false,
     "grade_id": "initialize",
     "locked": true,
     "schema_version": 3,
     "solution": false,
     "task": false
    },
    "pycharm": {
     "name": "#%%\n"
    }
   },
   "outputs": [],
   "source": [
    "# Remember to run this cell before any of the following ones\n",
    "\n",
    "import random\n",
    "from numpy.testing import assert_equal"
   ]
  },
  {
   "cell_type": "markdown",
   "metadata": {
    "deletable": false,
    "editable": false,
    "nbgrader": {
     "cell_type": "markdown",
     "checksum": "70004105be18d267f2164320e4e1db04",
     "grade": false,
     "grade_id": "Q1-task",
     "locked": true,
     "schema_version": 3,
     "solution": false,
     "task": false
    }
   },
   "source": [
    "## Exercise 1: Counter (5 points)\n",
    "\n",
    "Given a list of items, return a dictionary where the keys correspond to all unique elements and the corresponding values represent the number of occurences.\n",
    "\n",
    "**Example**: assume that the following list is given as input:\n",
    "```\n",
    "[1, 'a', 2, 'b', 'a', 'c']\n",
    "```\n",
    "Then your function should return a dictionary\n",
    "```\n",
    "{1: 1, 'a': 2, '2': 1, 'b': 1, 'c': 1}\n",
    "```\n",
    "The ordering of the keys does not matter.\n",
    "\n",
    "Your function will be tested with list of lenght up to 1000000 elements."
   ]
  },
  {
   "cell_type": "code",
   "execution_count": 3,
   "metadata": {
    "deletable": false,
    "nbgrader": {
     "cell_type": "code",
     "checksum": "d3b8e01e0a11140f40325430ae6b04ce",
     "grade": false,
     "grade_id": "Q1-code",
     "locked": false,
     "schema_version": 3,
     "solution": true,
     "task": false
    }
   },
   "outputs": [],
   "source": [
    "def counter(items):\n",
    "    # empty dict\n",
    "    result = {}\n",
    "    \n",
    "    # check if list is empty\n",
    "    if len(items) == 0:\n",
    "        return result\n",
    "    # https://datagy.io/python-count-occurrences-in-list/#:~:text=The%20easiest%20way%20to%20count,in%20the%20list%20is%20returned.\n",
    "    else:\n",
    "        for i in items:\n",
    "            if i in result:\n",
    "                result[i] += 1\n",
    "            else:\n",
    "                result[i] = 1\n",
    "    return result"
   ]
  },
  {
   "cell_type": "code",
   "execution_count": 4,
   "metadata": {
    "deletable": false,
    "editable": false,
    "nbgrader": {
     "cell_type": "code",
     "checksum": "bd6d6a48073faba27efe2ffcfc4c0dda",
     "grade": true,
     "grade_id": "Q1-test",
     "locked": true,
     "points": 5,
     "schema_version": 3,
     "solution": false,
     "task": false
    }
   },
   "outputs": [],
   "source": [
    "# Test your function on a few possible inputs\n",
    "\n",
    "assert_equal(counter([]), {})\n",
    "assert_equal(counter([\"a\", \"b\", \"c\"]), {\"a\": 1, \"b\": 1, \"c\": 1})\n",
    "assert_equal(counter([1 for _ in range(10_000)]), {1: 10_000})\n",
    "assert_equal(counter([\"a\", 0.42, \"a\"]), {\"a\": 2, 0.42: 1})\n",
    "assert_equal(counter([(1, 2), (2, 3), (3, 4)]), {(1, 2): 1, (2, 3): 1, (3, 4): 1})\n"
   ]
  },
  {
   "cell_type": "markdown",
   "metadata": {
    "deletable": false,
    "editable": false,
    "nbgrader": {
     "cell_type": "markdown",
     "checksum": "2ccdc204e615e617360e5e81d491096b",
     "grade": false,
     "grade_id": "Q2-task",
     "locked": true,
     "schema_version": 3,
     "solution": false,
     "task": false
    }
   },
   "source": [
    "## Exercise 2: Type specific operations (5 points)\n",
    "\n",
    "Write a function that performs operations depending on specific types of the input.\n",
    "- `bool`: return the negation\n",
    "- `int`: square the number\n",
    "- `float`: round the number to two decimal places\n",
    "- `complex`: return the sum of the real and imaginary part\n",
    "- `string`: make a palindrome, e.g., 'abc' becomes 'abccba'\n",
    "- `list`: move the first element to the last, e.g., `[1, 2, 3]` -> `[2, 3, 1]`\n",
    "- `tuple`: replace the first element of the tuple with the last element, e.g., `(1, 'b', [3])` -> `([3], 'b', [3])`\n",
    "- `set`: remove all elements that are not integers or floats, e.g., `{'1', 2, 'c', 4.222, (5, 67)}` -> `{2, 4.222}`\n",
    "- `dict`: reverse all (key, value) pairs. If the value is not hashable, then remove the (key, value) pair. You may assume that all keys and values are unique.\n",
    "- For any other type, return `None`.\n",
    "\n",
    "Be aware that your function will be tested with inputs of length up to 50000 items."
   ]
  },
  {
   "cell_type": "code",
   "execution_count": 2,
   "metadata": {
    "deletable": false,
    "nbgrader": {
     "cell_type": "code",
     "checksum": "e3f4a1ce50c538f4dc874a7c96fe805e",
     "grade": false,
     "grade_id": "Q2-code",
     "locked": false,
     "schema_version": 3,
     "solution": true,
     "task": false
    }
   },
   "outputs": [],
   "source": [
    "def hashable(v): # https://stackoverflow.com/questions/3460650/asking-is-hashable-about-a-python-value\n",
    "    #Determine whether v can be hashed.\n",
    "    try:\n",
    "        hash(v)\n",
    "        return True\n",
    "    except Exception as ex:\n",
    "        return False\n",
    "\n",
    "def operate(item):\n",
    "    if type(item) == bool:\n",
    "        return not item\n",
    "    elif type(item) == int:\n",
    "        return item**2\n",
    "    elif type(item) == float:\n",
    "        return round(item,2)\n",
    "    elif type(item) == complex:\n",
    "        return item.real + item.imag\n",
    "    elif type(item) == str:\n",
    "        return item + item[::-1]\n",
    "    elif type(item) == list:\n",
    "        item.append(item[0])\n",
    "        del item[0]\n",
    "        return item\n",
    "    elif type(item) == tuple:\n",
    "        list1 = list(item)\n",
    "        list1[0] = item[len(item)-1]\n",
    "        return tuple(list1)\n",
    "    elif type(item) == set:\n",
    "        remove_items = set()\n",
    "        for e in item:\n",
    "            if type(e) != int and type(e) != float:\n",
    "                remove_items.add(e)\n",
    "        for e in remove_items:\n",
    "            item.remove(e)\n",
    "        return item\n",
    "    elif type(item) == dict:\n",
    "        inv_dict = dict()\n",
    "        for k,v in item.items(): # https://www.geeksforgeeks.org/python-accessing-key-value-in-dictionary/\n",
    "            if hashable(v):\n",
    "                inv_dict[v] = k\n",
    "        return inv_dict\n",
    "    else:\n",
    "        return None\n"
   ]
  },
  {
   "cell_type": "code",
   "execution_count": 3,
   "metadata": {
    "deletable": false,
    "editable": false,
    "nbgrader": {
     "cell_type": "code",
     "checksum": "4d53ba7c1138a16878f938abe5ebb3e9",
     "grade": true,
     "grade_id": "Q2-test",
     "locked": true,
     "points": 5,
     "schema_version": 3,
     "solution": false,
     "task": false
    }
   },
   "outputs": [],
   "source": [
    "# Test your function on some possible inputs\n",
    "\n",
    "assert_equal(operate(True), False)\n",
    "assert_equal(operate(99999), 99999**2)\n",
    "assert_equal(operate(0.987654321), 0.99)\n",
    "assert_equal(operate(0.9), 0.9)\n",
    "assert_equal(operate(complex(1, 999)), 1000)\n",
    "assert_equal(operate('abc'), 'abccba')\n",
    "assert_equal(operate([1, 2, 3]), [2, 3, 1])\n",
    "assert_equal(operate((1, 'b', [3])), ([3], 'b', [3]))\n",
    "assert_equal(operate({'1', 2, 'c', 4.222, (5, 67)}), {2, 4.222})\n",
    "assert_equal(operate({'a': 1, 'b': [2], 'c': (3,)}), {(3,): 'c', 1: 'a'})\n"
   ]
  },
  {
   "cell_type": "markdown",
   "metadata": {
    "deletable": false,
    "editable": false,
    "nbgrader": {
     "cell_type": "markdown",
     "checksum": "796ce710a0e298824a0997e01c8d5c9b",
     "grade": false,
     "grade_id": "Q3-task",
     "locked": true,
     "schema_version": 3,
     "solution": false,
     "task": false
    },
    "pycharm": {
     "name": "#%% md\n"
    }
   },
   "source": [
    "## Exercise 3: coin flips (10 points)\n",
    "\n",
    "Write a Python function that takes as input a single string of any length describing a sequence of coin flips with possible outcome head (``'H'``) or tail (``'T'``) and returns only the length of the longest coin flip streak. \n",
    "\n",
    "The function should return always an integer and, in particular, should return ``0`` if the string is empty. You can check the correctness of your function using some instances of strings provided below with the corresponding correct answers. \n",
    "\n",
    "Your function will be tested with string consisting of up to 1 million coin flips. To generate yourself longer strings of length ``l`` with probability of head equal to ``p`` (and tail then equal to ``1-p``), you can use the command \n",
    "\n",
    "```coin_flips = ''.join(random.choices(['H','T'], weights = [p,1-p], k = l))```\n",
    "\n",
    "If you do so, remember to use the command ```random.seed(number)``` to get reproducible results."
   ]
  },
  {
   "cell_type": "code",
   "execution_count": 7,
   "metadata": {
    "ExecuteTime": {
     "end_time": "2022-05-05T01:23:08.535335Z",
     "start_time": "2022-05-05T01:23:08.531249Z"
    },
    "deletable": false,
    "nbgrader": {
     "cell_type": "code",
     "checksum": "a9073a48e1392bb117e4407bdfe748d8",
     "grade": false,
     "grade_id": "Q3-code",
     "locked": false,
     "schema_version": 3,
     "solution": true,
     "task": false
    },
    "pycharm": {
     "name": "#%%\n"
    }
   },
   "outputs": [],
   "source": [
    "def find_longest_streak(coin_flips):\n",
    "    longest = 1\n",
    "    temp = 1\n",
    "    if len(coin_flips) == 0:\n",
    "        longest = 0\n",
    "        return longest\n",
    "    elif len(coin_flips) == 1:\n",
    "        longest = 1\n",
    "        return longest\n",
    "    else:\n",
    "        for i in range(len(coin_flips)-1):\n",
    "            if coin_flips[i] == coin_flips[i+1]:\n",
    "                temp += 1\n",
    "            else:\n",
    "                if longest<temp:\n",
    "                    longest = temp\n",
    "                temp = 1\n",
    "    return longest"
   ]
  },
  {
   "cell_type": "code",
   "execution_count": 8,
   "metadata": {
    "ExecuteTime": {
     "end_time": "2022-05-05T01:23:10.200782Z",
     "start_time": "2022-05-05T01:23:09.716172Z"
    },
    "deletable": false,
    "editable": false,
    "nbgrader": {
     "cell_type": "code",
     "checksum": "a676d1e7668070612ced4e58c3618c28",
     "grade": true,
     "grade_id": "Q3-test",
     "locked": true,
     "points": 10,
     "schema_version": 3,
     "solution": false,
     "task": false
    },
    "pycharm": {
     "name": "#%%\n"
    }
   },
   "outputs": [],
   "source": [
    "# Test your function on some possible coin flip sequences\n",
    "\n",
    "assert_equal(find_longest_streak(\"\"),0)\n",
    "assert_equal(find_longest_streak(\"T\"),1)\n",
    "assert_equal(find_longest_streak(\"HTTHT\"),2)\n",
    "assert_equal(find_longest_streak(\"TTHTTTHHTHHH\"),3)\n",
    "assert_equal(find_longest_streak(\"HTHHTTTHTHTHHHTTHHHHHHTHTTTHHTHHHTHTHTHTTTHHHHHTHTHTTH\"),6)\n"
   ]
  },
  {
   "cell_type": "markdown",
   "metadata": {
    "deletable": false,
    "editable": false,
    "nbgrader": {
     "cell_type": "markdown",
     "checksum": "84c4ec037938e4a72dd913e8c30ca8de",
     "grade": false,
     "grade_id": "Q4a-task",
     "locked": true,
     "schema_version": 3,
     "solution": false,
     "task": false
    }
   },
   "source": [
    "## Exercise 4: letter occurrences (15 points)\n",
    "\n",
    "Your task is to analyze the percentage of times a letter occurs in a given position for the unique words appearing in a given text file. \n",
    "\n",
    "This exercise is split in two parts: in part A, you are asked to write a function that extracts unique words from any input text file; in part B, you are asked to write a function that calculate letter occurrence statistics starting from a given input text file.\n",
    "\n",
    "Note that you can use the Python `string` module (imported below), but *no* other packages for this exercise.\n",
    "\n",
    "### Part A (5 points)\n",
    "\n",
    "Write a function that takes a .txt file as input and returns the list of unique words contained in that text. Note that:\n",
    "- Ignore capitalized letters, namely if a words appears both capitalized (e.g., ``'Until'``) and not capitalized (e.g., ``'until'``), it should appear only once in the final unique word list;\n",
    "- The text might appear in various paragraphs separated by new lines and/or have empty lines;\n",
    "- The text has punctuation, which your function should ignore. Specifically, you should ignore all and only the punctuaction returned by ``string.punctuation``\n",
    "- Related to the previous point, you can assume the text has **no abbreviations** (e.g., *don't*), no **English possessive** (e.g., *John's*) and no **hypened words** (e.g., *full-scale*)\n",
    "- Numbers should be processed according to the above rules (regardless of whether they appear in time/date/percentages/decimals). For instance, processing the textt ``On June 7th, at 9:00am`` should return the unique words ``['on','june','7th','at','900am']``."
   ]
  },
  {
   "cell_type": "code",
   "execution_count": 9,
   "metadata": {
    "deletable": false,
    "nbgrader": {
     "cell_type": "code",
     "checksum": "322a757e40cba31c68387ef8f0e3e632",
     "grade": false,
     "grade_id": "Q4a-code",
     "locked": false,
     "schema_version": 3,
     "solution": true,
     "task": false
    }
   },
   "outputs": [],
   "source": [
    "import string\n",
    "\n",
    "def unique_words_parser(filename):\n",
    "    # read file\n",
    "    with open(filename, 'r') as f:\n",
    "        f_str = f.read()\n",
    "    \n",
    "    # make lowercase\n",
    "    f_str = f_str.lower()\n",
    "    \n",
    "    # remove punctuations\n",
    "    for i in f_str:\n",
    "        if i in string.punctuation:\n",
    "            f_str =  f_str.replace(i,\"\")\n",
    "    \n",
    "    # find all words\n",
    "    word_list = f_str.split()\n",
    "    \n",
    "    # find unique words\n",
    "    unique_word = []\n",
    "    for i in word_list:\n",
    "        if i not in unique_word:\n",
    "            unique_word.append(i)\n",
    "    \n",
    "    return unique_word    "
   ]
  },
  {
   "cell_type": "code",
   "execution_count": 10,
   "metadata": {
    "deletable": false,
    "editable": false,
    "nbgrader": {
     "cell_type": "code",
     "checksum": "5ae92d86d5fb0b85b5243bc96f510fe9",
     "grade": true,
     "grade_id": "Q4a-test",
     "locked": true,
     "points": 5,
     "schema_version": 3,
     "solution": false,
     "task": false
    }
   },
   "outputs": [],
   "source": [
    "# Test your function on some possible input files. \n",
    "# Note that only the length of the returned word list is checked.\n",
    "# The autograder will check the exact word list.\n",
    "\n",
    "assert_equal(len(unique_words_parser(\"data/text_input0.txt\")), 85)\n",
    "assert_equal(len(unique_words_parser(\"data/text_input1.txt\")), 149)\n"
   ]
  },
  {
   "cell_type": "markdown",
   "metadata": {
    "deletable": false,
    "editable": false,
    "nbgrader": {
     "cell_type": "markdown",
     "checksum": "86f58a4407b3685e0c9f3d9afdd0c72a",
     "grade": false,
     "grade_id": "Q4b-task",
     "locked": true,
     "schema_version": 3,
     "solution": false,
     "task": false
    }
   },
   "source": [
    "### Part B (10 points)\n",
    "\n",
    "Write a Python function that takes as input \n",
    "- a list of words (all small-caps strings)\n",
    "- a specific word length $l\\geq 1$ \n",
    "- a specific position $p \\in \\{0,1,\\dots,l-1\\}$\n",
    "\n",
    "and that returns a **dictionary** with \n",
    "- as *keys* all possible (small cap) letters that appear in position $p$ at least once across all words of length $l$ in the given list \n",
    "- as *values* the corresponding percentages of those words of length $l$ that have that letter in position $p$. The percentages should be rounded to 2 decimal digits. The dictionary should be sorted in decreasing order of frequency. If there are no word of a given length $l$, the function should return an empty dictionary.\n",
    "\n",
    "Your function will be tested with list of up to 30000 words.\n",
    "\n",
    "**Example**: Assume the list of word is ```['exam','data','study','year','big','code','raw','python','test','assignment','eye','line','column','row']```.\n",
    "\n",
    "For $l=1$ and $p = 0$, then the function shoud return `{}` since there are no words of length $1$.\n",
    "\n",
    "For $l=3$ and $p = 0$, then the function shoud return `{'r': 50.0, 'b': 25.0, 'e': 25.0}` since there four words of length 3 and for those words the initial letter is `r` in 50% of those words, ``b`` 25% of the times and `e` 25% of the times.\n",
    "\n",
    "For $l=4$ and $p=3$, then the function should return `{'e': 33.33, 'a': 16.67, 'm': 16.67, 'r': 16.67, 't': 16.67}` since there six words of length 4 and the possible last letters all occur once, except `e` which occures twice.\n",
    "\n",
    "For $l=6$ and $p = 1$, then the function shoud return `{'o': 50.0, 'y': 50.0}` since there two words of length 6 and for those words the second letter is `o` in 50% of those words and `y` 25% of the times."
   ]
  },
  {
   "cell_type": "code",
   "execution_count": 11,
   "metadata": {
    "deletable": false,
    "nbgrader": {
     "cell_type": "code",
     "checksum": "c97823184e07d4b9e20fcf5d79c2c42e",
     "grade": false,
     "grade_id": "Q4b-code",
     "locked": false,
     "schema_version": 3,
     "solution": true,
     "task": false
    }
   },
   "outputs": [],
   "source": [
    "def letter_occurrences(word_list, word_length, position):\n",
    "    result = dict()\n",
    "    length_l = []\n",
    "    p_letter =[]\n",
    "    \n",
    "    # find words of length l\n",
    "    for i in word_list:\n",
    "        if len(i) == word_length:\n",
    "            length_l.append(i)\n",
    "    # check if no words satisfied\n",
    "    if len(length_l) == 0:\n",
    "        return result\n",
    "    \n",
    "    # find letter at position p\n",
    "    for word in length_l:\n",
    "        if word[position] not in p_letter:\n",
    "            p_letter.append(word[position])\n",
    "    \n",
    "    # calculater percentages\n",
    "    for letter in p_letter:\n",
    "        counter = 0\n",
    "        for word in length_l:\n",
    "            if letter == word[position]:\n",
    "                counter+=1\n",
    "            result[letter] = round(counter/len(length_l)*100,2)\n",
    "        \n",
    "    return result"
   ]
  },
  {
   "cell_type": "code",
   "execution_count": 12,
   "metadata": {
    "deletable": false,
    "editable": false,
    "nbgrader": {
     "cell_type": "code",
     "checksum": "38019a6dc03f9d41baeb206de18f020c",
     "grade": true,
     "grade_id": "Q4b-test",
     "locked": true,
     "points": 10,
     "schema_version": 3,
     "solution": false,
     "task": false
    }
   },
   "outputs": [],
   "source": [
    "# Check the correctedness your function with the following tests\n",
    "\n",
    "words = ['exam','data','study','year','big','code','raw','python','test','assignment','eye','line','column','row']\n",
    "\n",
    "assert_equal(letter_occurrences(words, 1, 0), {})\n",
    "assert_equal(letter_occurrences(words, 3, 0), {'r': 50.0, 'b': 25.0, 'e': 25.0})\n",
    "assert_equal(letter_occurrences(words, 4, 3), {'e': 33.33, 'a': 16.67, 'm': 16.67, 'r': 16.67, 't': 16.67})\n",
    "assert_equal(letter_occurrences(words, 6, 1), {'o': 50.0, 'y': 50.0})\n",
    "assert_equal(letter_occurrences(words, 7, 2), {})\n",
    "assert_equal(letter_occurrences(words, 10, 9), {'t': 100.0})\n",
    "\n",
    "# You can also test your functiong leveraging what you did in part A (assuming you solved it correctly!)\n",
    "\n",
    "assert_equal(letter_occurrences(unique_words_parser(\"data/text_input0.txt\"), 5, 0),\n",
    "{'o': 20.0,\n",
    " 'd': 10.0,\n",
    " 'f': 10.0,\n",
    " 'l': 10.0,\n",
    " 'p': 10.0,\n",
    " 's': 10.0,\n",
    " 't': 10.0,\n",
    " 'v': 10.0,\n",
    " 'w': 10.0})\n",
    "\n",
    "assert_equal(letter_occurrences(unique_words_parser(\"data/text_input1.txt\"), 6, 0),\n",
    "{'c': 26.67,\n",
    " 'p': 20.0,\n",
    " 'i': 13.33,\n",
    " 'd': 6.67,\n",
    " 'e': 6.67,\n",
    " 'r': 6.67,\n",
    " 't': 6.67,\n",
    " 'u': 6.67,\n",
    " 'w': 6.67})\n"
   ]
  },
  {
   "cell_type": "markdown",
   "metadata": {
    "deletable": false,
    "editable": false,
    "nbgrader": {
     "cell_type": "markdown",
     "checksum": "9db1e5f31b3f79a950b3dc406848a953",
     "grade": false,
     "grade_id": "Q5-task",
     "locked": true,
     "schema_version": 3,
     "solution": false,
     "task": false
    },
    "pycharm": {
     "name": "#%% md\n"
    }
   },
   "source": [
    "## Exercise 5: Integer sequences (15 points) \n",
    "\n",
    "For any integer $n \\geq 1$ one can compute the sequence obtained iteratively by applying the following rule: $a_0 = n$ and for every $j \\geq 0$ \n",
    "$$\n",
    "a_{j+1}=\n",
    "\\begin{cases}\n",
    "\\frac{a_j}{2} & \\text{ if } a_j \\text{ is even,}\\\\\n",
    "3 a_j +1 & \\text{ if } a_j \\text{ is odd.}\n",
    "\\end{cases}\n",
    "$$\n",
    "The iterative procedure should terminate the first time the number $1$ is reached. For instance, for $n = 12$ one obtains the sequence $12, 6, 3, 10, 5, 16, 8, 4, 2, 1$, which consists of $9$ *steps* and has *peak value* $16$.\n",
    "\n",
    "The [Collatz conjecture](https://en.wikipedia.org/wiki/Collatz_conjecture) states that these sequences always reach $1$, no matter which positive integer is chosen to start the sequence. Even if it is not proved yet, it has been checked by computer for all starting values up to $2^{68}$.\n",
    "\n",
    "Write a Python function that imports a file `filename` containing a single line with an unknown number of integers separated by commas and returns a tuple with two numbers $(a, b)$ to be determined as follows:\n",
    "- $a$ is the number of steps of the *longest* sequence started at the integer values inside the file\n",
    "- $b$ is the *largest* peak value achieved by any of the sequences started at the integer values inside the file\n",
    "\n",
    "**Example**: assume the integers 1, 5, 16, 9, 15 are read from the file. The five sequences are:\n",
    "- 1\n",
    "- 5, 16, 8, 4, 2, 1\n",
    "- 16, 8, 4, 2, 1\n",
    "- 9, 28, 14, 7, 22, 11, 34, 17, 52, 26, 13, 40, 20, 10, 5, 16, 8, 4, 2, 1\n",
    "- 15, 46, 23, 70, 35, 106, 53, 160, 80, 40, 20, 10, 5, 16, 8, 4, 2, 1\n",
    "\n",
    "and thus the required output should be (19, 160). Indeed, the sequence started at 9 takes 19 steps to reach 1, while the sequence started at 15 reaches the largest peak value at 160. \n",
    "\n",
    "Your function will be tested with sets of up to 10000 integers."
   ]
  },
  {
   "cell_type": "code",
   "execution_count": 13,
   "metadata": {
    "ExecuteTime": {
     "end_time": "2022-05-05T01:24:02.367774Z",
     "start_time": "2022-05-05T01:24:02.362409Z"
    },
    "deletable": false,
    "nbgrader": {
     "cell_type": "code",
     "checksum": "a9c0f31f273d3a6c741646210b29e730",
     "grade": false,
     "grade_id": "Q5-code",
     "locked": false,
     "schema_version": 3,
     "solution": true,
     "task": false
    }
   },
   "outputs": [],
   "source": [
    "def steps_and_peak(filename):\n",
    "    longest_step = 0\n",
    "    largest_peak = 0\n",
    "    seq = []\n",
    "    \n",
    "    # read file\n",
    "    with open(filename, 'r') as f:\n",
    "        f_str = f.read()\n",
    "    \n",
    "    # get number\n",
    "    numbers = f_str.split(',')\n",
    "    \n",
    "    # find sequence\n",
    "    for i in numbers:\n",
    "        seq.append(int(i))\n",
    "        j=0\n",
    "        while j < len(seq):\n",
    "            if seq[j] == 1:\n",
    "                break\n",
    "            elif seq[j]%2 == 0 and seq[j] > 1:\n",
    "                seq.append(seq[j]/2)\n",
    "                j+=1\n",
    "            elif seq[j]%2 != 0 and seq[j] > 1 :\n",
    "                seq.append(3*seq[j]+1)\n",
    "                j+=1\n",
    "\n",
    "        # find step and peak\n",
    "        if longest_step < len(seq) - 1:\n",
    "            longest_step = len(seq) - 1\n",
    "        if largest_peak < max(seq):\n",
    "            largest_peak = max(seq)\n",
    "\n",
    "        # reset seq for next int\n",
    "        seq.clear()\n",
    "    \n",
    "    return (longest_step, largest_peak)"
   ]
  },
  {
   "cell_type": "code",
   "execution_count": 14,
   "metadata": {
    "ExecuteTime": {
     "end_time": "2022-05-05T01:24:05.572570Z",
     "start_time": "2022-05-05T01:24:05.344781Z"
    },
    "deletable": false,
    "editable": false,
    "nbgrader": {
     "cell_type": "code",
     "checksum": "53b7f5df5629ac19a3a0671bdd9599ae",
     "grade": true,
     "grade_id": "Q5-test",
     "locked": true,
     "points": 15,
     "schema_version": 3,
     "solution": false,
     "task": false
    },
    "pycharm": {
     "name": "#%%\n"
    }
   },
   "outputs": [],
   "source": [
    "# Test your function using the provided sample input files\n",
    "\n",
    "assert_equal(steps_and_peak(\"data/collatz_input0.txt\"), (19, 52))\n",
    "assert_equal(steps_and_peak(\"data/collatz_input1.txt\"), (109, 9232))\n",
    "assert_equal(steps_and_peak(\"data/collatz_input2.txt\"), (133, 13120))\n",
    "assert_equal(steps_and_peak(\"data/collatz_input3.txt\"), (201, 1276936))\n",
    "assert_equal(steps_and_peak(\"data/collatz_input4.txt\"), (246, 8153620))\n"
   ]
  },
  {
   "cell_type": "markdown",
   "metadata": {
    "deletable": false,
    "editable": false,
    "nbgrader": {
     "cell_type": "markdown",
     "checksum": "3497de2a98ad3a2e79421a9ca8709b01",
     "grade": false,
     "grade_id": "Q6-task",
     "locked": true,
     "schema_version": 3,
     "solution": false,
     "task": false
    }
   },
   "source": [
    "## Exercise 6: Eratosthenes (15 points) \n",
    "\n",
    "A **prime number** (or a prime) is a natural number greater than $1$ that is not a product of two smaller natural numbers. In particular, $1$ is *not* a prime number.\n",
    "\n",
    "Given two nonnegative integers $0 \\leq l \\leq u$ and a nonnegative integer $k \\geq 0$, write a Python function that calculates the smallest $k$ prime numbers between $l$ and $u$ (and possibly equal to $l$ and $u$) and returns their sum. If there are fewer than $k$ prime numbers between $l$ and $u$, the function should still return the sum of all the primes in that interval.\n",
    "\n",
    "**Example**: assume that $l=0$ and $u=13$. If $k=0$, trivially the function should return $0$. If $k=4$, then the smallest $k$ primes between $0$ and $13$ are $2, 3, 5, 7$, so the function should return $17$, since $17 = 2 + 3 + 5 + 7$. If $k=9$, then the function should return $41$, since $41 = 2 + 3 + 5 + 7 + 11 + 13$ and there are fewer than $9$ terms in the sum because there are only $6$ prime numbers between $0$ and $13$.\n",
    "\n",
    "Your function will be tested for values of $u$ up to 1000000 and of $k$ up to 80000.\n",
    "\n",
    "*Hint*: Your function needs to be able to cope with wide intervals and large values of $u$. Rather than checking individually for each number whether is prime or not, it may be convenient to first find all the prime numbers less than or equal to $l$ by implementing a version of the [Sieve of Eratosthenes](https://en.wikipedia.org/wiki/Sieve_of_Eratosthenes)."
   ]
  },
  {
   "cell_type": "code",
   "execution_count": 15,
   "metadata": {
    "deletable": false,
    "nbgrader": {
     "cell_type": "code",
     "checksum": "3bd175cea79a91ae6ee9d57b390822e2",
     "grade": false,
     "grade_id": "Q6-code",
     "locked": false,
     "schema_version": 3,
     "solution": true,
     "task": false
    }
   },
   "outputs": [],
   "source": [
    "def eratosthenes(l, u, k):\n",
    "    if k == 0:\n",
    "        return 0\n",
    "    \n",
    "    # find all primes <= u\n",
    "#     https://en.wikipedia.org/wiki/Sieve_of_Eratosthenes\n",
    "    num = range(2,u+1,1)\n",
    "    index = range(2,int((u)**(1/2))+1,1)\n",
    "    \n",
    "    prime_dict = dict.fromkeys(num, True)\n",
    "\n",
    "    for i in index:\n",
    "        if prime_dict[i] == True:\n",
    "            for j in range(i**2,u+1,i):\n",
    "                prime_dict[j] = False\n",
    "                \n",
    "    # get list of all primes between l and u\n",
    "    prime_list = []\n",
    "    for key in prime_dict:\n",
    "        if prime_dict[key] == True and key >= l:\n",
    "            prime_list.append(key)\n",
    "    \n",
    "    # calculate sum of k primess\n",
    "    return sum(prime_list[0:k])"
   ]
  },
  {
   "cell_type": "code",
   "execution_count": 16,
   "metadata": {
    "deletable": false,
    "editable": false,
    "nbgrader": {
     "cell_type": "code",
     "checksum": "8b17e5fe52c67f53c78ed18f47f38ac1",
     "grade": true,
     "grade_id": "Q6-test",
     "locked": true,
     "points": 15,
     "schema_version": 3,
     "solution": false,
     "task": false
    }
   },
   "outputs": [],
   "source": [
    "# Test your function using the provided test cases\n",
    "\n",
    "assert_equal(eratosthenes(0,13,0), 0)\n",
    "assert_equal(eratosthenes(0,13,4), 17)\n",
    "assert_equal(eratosthenes(0,13,9), 41)\n"
   ]
  },
  {
   "cell_type": "markdown",
   "metadata": {
    "deletable": false,
    "editable": false,
    "nbgrader": {
     "cell_type": "markdown",
     "checksum": "43c9a0619985206f891d4aaa0f9a5506",
     "grade": false,
     "grade_id": "Q7-task",
     "locked": true,
     "schema_version": 3,
     "solution": false,
     "task": false
    }
   },
   "source": [
    "## Exercise 7: Bill Splitting (15 points) \n",
    "\n",
    "A restaurant bill is given as a text file, where each line corresponds to a dish, the price, and the names of people that took part in eating that dish. For example:\n",
    "```\n",
    "Pizza Napolitana, 12.00, Bob, Alice\n",
    "Mac and Cheese, 9.00, Bob, Charly\n",
    "```\n",
    "The goal of this exercise is to write a Python function that splits the bill.\n",
    "\n",
    "**Assumptions**:\n",
    "- Dishes may occur more than once on the bill.\n",
    "- For each dish and corresponding names on a line, all people take equal share in eating.\n",
    "- All prices are given as numbers with two decimals. Use floats to represent the numbers."
   ]
  },
  {
   "cell_type": "markdown",
   "metadata": {
    "deletable": false,
    "editable": false,
    "nbgrader": {
     "cell_type": "markdown",
     "checksum": "eac85182509773ee7bfb6e6f9a67f15e",
     "grade": false,
     "grade_id": "Q7a-task",
     "locked": true,
     "schema_version": 3,
     "solution": false,
     "task": false
    }
   },
   "source": [
    "### Part A (5 points)\n",
    "Write a function that reads the bill file and returns a list of lists. Each inner list contains as first element the dish name, as second element the price, and as remaining elements the names of people eating from the dish. Assuming that we are given the example bill above as text file, then your function should return\n",
    "```\n",
    "[['Pizza Napolitana', 12.0, 'Bob', 'Alice'], ['Mac and Cheese', 9.0, 'Bob', 'Charly']]\n",
    "```"
   ]
  },
  {
   "cell_type": "code",
   "execution_count": 17,
   "metadata": {
    "deletable": false,
    "nbgrader": {
     "cell_type": "code",
     "checksum": "5ba4fdcb3fd2ed1cb63cd0abc628f9ce",
     "grade": false,
     "grade_id": "Q7a-code",
     "locked": false,
     "schema_version": 3,
     "solution": true,
     "task": false
    }
   },
   "outputs": [],
   "source": [
    "def parse_bill(filename):\n",
    "    result = []\n",
    "    \n",
    "    # read file\n",
    "    with open(filename, 'r') as f:\n",
    "        f_list = f.readlines()\n",
    "    \n",
    "    for bill in f_list:\n",
    "        #split by ',' and delete spaces\n",
    "        temp = bill.strip().split(',')\n",
    "        \n",
    "        # remove empty str\n",
    "#         List comprehensions in \n",
    "#         https://note.nkmk.me/en/python-list-clear-pop-remove-del/\n",
    "        temp = [x for x in temp if x != '']\n",
    "\n",
    "        # read values, remove unwanted char and store to list\n",
    "        for i in range(0,len(temp)):\n",
    "            k=0\n",
    "            for j in range(len(temp[i])):\n",
    "                if temp[i][j].isalpha() or temp[i][j].isdigit():\n",
    "                    k=j\n",
    "                    break\n",
    "            temp[i] = temp[i][k:]\n",
    "            \n",
    "        temp[1] = float(temp[1])\n",
    "        result.append(temp)\n",
    "\n",
    "    return result"
   ]
  },
  {
   "cell_type": "code",
   "execution_count": 18,
   "metadata": {
    "deletable": false,
    "editable": false,
    "nbgrader": {
     "cell_type": "code",
     "checksum": "83e59874a4ab92523de853f434188094",
     "grade": true,
     "grade_id": "Q7a-test",
     "locked": true,
     "points": 5,
     "schema_version": 3,
     "solution": false,
     "task": false
    }
   },
   "outputs": [],
   "source": [
    "# Test your function with the provided test input files\n",
    "\n",
    "assert_equal(parse_bill(\"data/billsplit_input0.txt\"), \n",
    "             [[\"Etna DOC\", 18.22, \"Michael\"], \n",
    "              [\"Crescia\", 11.6, \"Michael\"]])\n",
    "\n",
    "# These tests only verify the length; feel free to modify it accordingly.\n",
    "\n",
    "assert_equal(len(parse_bill(\"data/billsplit_input0.txt\")), 2)\n",
    "assert_equal(len(parse_bill(\"data/billsplit_input1.txt\")), 5)\n",
    "assert_equal(len(parse_bill(\"data/billsplit_input2.txt\")), 8)\n",
    "assert_equal(len(parse_bill(\"data/billsplit_input3.txt\")), 10)\n",
    "assert_equal(len(parse_bill(\"data/billsplit_input4.txt\")), 1000)\n"
   ]
  },
  {
   "cell_type": "markdown",
   "metadata": {
    "deletable": false,
    "editable": false,
    "nbgrader": {
     "cell_type": "markdown",
     "checksum": "ca430236864e397a3786ca385d6c32c2",
     "grade": false,
     "grade_id": "Q7b-task",
     "locked": true,
     "schema_version": 3,
     "solution": false,
     "task": false
    }
   },
   "source": [
    "### Part B (10 points)\n",
    "Write a function that reads the bill file and returns a dictionary. The dictionary keys are names and the corresponding value should indicate the money that they have to pay. Make sure that all values are rounded down to two decimal numbers. \n",
    "\n",
    "We recommend you to make use of the parsing function that you wrote in **part A**. Be aware that your function will be tested on vary large test files.\n",
    "\n",
    "**Example**: Assume that you are given the bill shown earlier:\n",
    "```\n",
    "Pizza Napolitana, 12.00, Bob, Alice\n",
    "Mac and Cheese, 9.00, Bob, Charly\n",
    "```\n",
    "\n",
    "Your function should output the following:\n",
    "```\n",
    "{'Bob': 10.5, 'Alice': 6.0, 'Charly': 4.5}\n",
    "```\n"
   ]
  },
  {
   "cell_type": "code",
   "execution_count": 19,
   "metadata": {
    "deletable": false,
    "nbgrader": {
     "cell_type": "code",
     "checksum": "5fce94f8392eb91799913bc63eb0167e",
     "grade": false,
     "grade_id": "Q7b-code",
     "locked": false,
     "schema_version": 3,
     "solution": true,
     "task": false
    }
   },
   "outputs": [],
   "source": [
    "def split_bill(filename):\n",
    "    # read bills\n",
    "    bill_list = parse_bill(filename)\n",
    "    \n",
    "    # find all name involve\n",
    "    name_list = []\n",
    "    for bill in bill_list:\n",
    "        for i in range(2,len(bill)):\n",
    "            if bill[i] not in name_list:\n",
    "                name_list.append(bill[i])\n",
    "                \n",
    "    # calculate amount and store to dict                \n",
    "    split_dict = dict.fromkeys(name_list,0)\n",
    "        \n",
    "    for bill in bill_list:\n",
    "        amount = bill[1]/len(range(2,len(bill)))\n",
    "        for i in range(2,len(bill)):\n",
    "            split_dict[bill[i]] += amount\n",
    "    \n",
    "    for k in split_dict:\n",
    "        split_dict[k] = round(split_dict[k],2)\n",
    "        \n",
    "    return split_dict"
   ]
  },
  {
   "cell_type": "code",
   "execution_count": 20,
   "metadata": {
    "deletable": false,
    "editable": false,
    "nbgrader": {
     "cell_type": "code",
     "checksum": "c5db9dbb79cad0bc40f27d80efe73cd9",
     "grade": true,
     "grade_id": "Q7b-test",
     "locked": true,
     "points": 10,
     "schema_version": 3,
     "solution": false,
     "task": false
    }
   },
   "outputs": [],
   "source": [
    "# Test your function with the provided test input files\n",
    "\n",
    "assert_equal(split_bill(\"data/billsplit_input0.txt\"), \n",
    "            {'Michael': 29.82})\n",
    "\n",
    "assert_equal(split_bill(\"data/billsplit_input1.txt\"), \n",
    "            {'Jamie': 24.31,\n",
    "             'Victoria': 10.64,\n",
    "             'Allison': 10.64,\n",
    "             'Amanda': 2.42,\n",
    "             'Samuel': 2.42,\n",
    "             'Peter': 25.88,\n",
    "             'Lisa': 10.37})\n",
    "\n",
    "# These tests only verify the length (i.e., number of people); feel free to modify it accordingly.\n",
    "\n",
    "assert_equal(len(split_bill(\"data/billsplit_input0.txt\")), 1)\n",
    "assert_equal(len(split_bill(\"data/billsplit_input1.txt\")), 7)\n",
    "assert_equal(len(split_bill(\"data/billsplit_input2.txt\")), 18)\n",
    "assert_equal(len(split_bill(\"data/billsplit_input3.txt\")), 45)\n",
    "assert_equal(len(split_bill(\"data/billsplit_input4.txt\")), 142)\n"
   ]
  },
  {
   "cell_type": "markdown",
   "metadata": {
    "deletable": false,
    "editable": false,
    "nbgrader": {
     "cell_type": "markdown",
     "checksum": "70611959b745637af1f00f993aa433c1",
     "grade": false,
     "grade_id": "Q8-task",
     "locked": true,
     "schema_version": 3,
     "solution": false,
     "task": false
    }
   },
   "source": [
    "## Exercise 8: Dice math (20 points)\n",
    "\n",
    "In this exercise you will work with .txt files where a number of dice are drawn using characters as follows\n",
    "\n",
    "```\n",
    "+-------+ \n",
    "|       |\n",
    "|   O   |\n",
    "|       |\n",
    "+-------+\n",
    "\n",
    "+-------+\n",
    "| O     |\n",
    "|       |\n",
    "|     O |\n",
    "+-------+\n",
    "\n",
    "+-------+\n",
    "|     O |\n",
    "|       |\n",
    "| O     |\n",
    "+-------+\n",
    "\n",
    "+-------+\n",
    "| O     |\n",
    "|   O   |\n",
    "|     O |\n",
    "+-------+\n",
    "        \n",
    "+-------+\n",
    "|     O |\n",
    "|   O   |\n",
    "| O     |\n",
    "+-------+\n",
    "        \n",
    "+-------+\n",
    "| O   O |\n",
    "|       |\n",
    "| O   O |\n",
    "+-------+\n",
    "       \n",
    "+-------+\n",
    "| O   O |\n",
    "|   O   |\n",
    "| O   O |\n",
    "+-------+\n",
    "       \n",
    "+-------+\n",
    "| O   O |\n",
    "| O   O |\n",
    "| O   O |\n",
    "+-------+\n",
    "\n",
    "+-------+\n",
    "| O O O |\n",
    "|       |\n",
    "| O O O |\n",
    "+-------+\n",
    "```\n",
    "\n",
    "In particular note that the value is drawn using the letter ``O``. Note that any such .txt input file might have no die as well as up to 25 dice. As illustrated above, some of the dice can have different orientations. Multiple dice do *not* necessarily appear in distinct rows of the file (open some of the provided .txt input files to get a feeling), but they never overlap. "
   ]
  },
  {
   "cell_type": "markdown",
   "metadata": {
    "deletable": false,
    "editable": false,
    "nbgrader": {
     "cell_type": "markdown",
     "checksum": "b42729829b38f2c8dd72ce8b05ff7246",
     "grade": false,
     "grade_id": "Q8a-task",
     "locked": true,
     "schema_version": 3,
     "solution": false,
     "task": false
    }
   },
   "source": [
    "### Part A (5 points)\n",
    "Write a function that a .txt file containing the representation of a set of dice and returns only the nonnegative integer number equal to the total sum of the values of the dice."
   ]
  },
  {
   "cell_type": "code",
   "execution_count": 21,
   "metadata": {
    "deletable": false,
    "nbgrader": {
     "cell_type": "code",
     "checksum": "26800ea8917f5bc9cac52df4e1aa172c",
     "grade": false,
     "grade_id": "Q8a-code",
     "locked": false,
     "schema_version": 3,
     "solution": true,
     "task": false
    }
   },
   "outputs": [],
   "source": [
    "def dice_sum(filename):\n",
    "\n",
    "    with open(filename, 'r') as f:\n",
    "        f_str = f.read()\n",
    "        \n",
    "    sum_dice = 0\n",
    "    for i in f_str:\n",
    "        if i == 'O':\n",
    "            sum_dice += 1\n",
    "        \n",
    "    return sum_dice"
   ]
  },
  {
   "cell_type": "code",
   "execution_count": 22,
   "metadata": {
    "deletable": false,
    "editable": false,
    "nbgrader": {
     "cell_type": "code",
     "checksum": "0570e2f861034fe44626f89246c8054d",
     "grade": true,
     "grade_id": "Q8a-test",
     "locked": true,
     "points": 5,
     "schema_version": 3,
     "solution": false,
     "task": false
    }
   },
   "outputs": [],
   "source": [
    "# Test your function with the provided test input files\n",
    "\n",
    "assert_equal(dice_sum(\"data/dicemath_input0.txt\"), 39)\n",
    "assert_equal(dice_sum(\"data/dicemath_input1.txt\"), 19)\n",
    "assert_equal(dice_sum(\"data/dicemath_input2.txt\"), 0)\n",
    "assert_equal(dice_sum(\"data/dicemath_input3.txt\"), 16)\n"
   ]
  },
  {
   "cell_type": "markdown",
   "metadata": {
    "deletable": false,
    "editable": false,
    "nbgrader": {
     "cell_type": "markdown",
     "checksum": "78a8e3ec6806a9b054d37c3eadc43487",
     "grade": false,
     "grade_id": "Q8b-task",
     "locked": true,
     "schema_version": 3,
     "solution": false,
     "task": false
    }
   },
   "source": [
    "### Part B (15 points)\n",
    "\n",
    "Write a function that reads the .txt file containing the representation of a set of dice and returns only one (possibly negative) integer equal to the difference between the sum of the the odd dice minus the sum of the even dice. "
   ]
  },
  {
   "cell_type": "code",
   "execution_count": 23,
   "metadata": {
    "deletable": false,
    "nbgrader": {
     "cell_type": "code",
     "checksum": "417e64662dbfe62130ba193bb96d0466",
     "grade": false,
     "grade_id": "Q8b-code",
     "locked": false,
     "schema_version": 3,
     "solution": true,
     "task": false
    }
   },
   "outputs": [],
   "source": [
    "def dice_diff(filename):\n",
    "    \n",
    "    DICE_WIDTH = 9\n",
    "    DICE_HEIGHT = 5\n",
    "    \n",
    "    with open(filename, 'r') as f:\n",
    "        f_list = f.readlines()\n",
    "        \n",
    "    dice_face = [1,2,3,4,5,6]\n",
    "    occurence_dict = dict.fromkeys(dice_face, 0)\n",
    "    \n",
    "    for i in range(len(f_list)-DICE_HEIGHT):\n",
    "        for j in range(len(f_list[i])-DICE_WIDTH):\n",
    "             if (f_list[i][j] == f_list[i+(DICE_HEIGHT-1)][j] == \n",
    "                 f_list[i][j+(DICE_WIDTH-1)] == f_list[i+(DICE_HEIGHT-1)][j+(DICE_WIDTH-1)] == '+'\n",
    "                 and f_list[i][j+1:j+(DICE_WIDTH-1)] == \n",
    "                     f_list[i+(DICE_HEIGHT-1)][j+1:j+(DICE_WIDTH-1)] == \"-------\"\n",
    "                 and f_list[i+1][j] == f_list[i+2][j] == f_list[i+3][j] == \n",
    "                     f_list[i+1][j+(DICE_WIDTH-1)] == f_list[i+2][j+(DICE_WIDTH-1)] == f_list[i+3][j+(DICE_WIDTH-1)] == '|'):\n",
    "                    \n",
    "                if ((f_list[i+1][j+2] == f_list[i+2][j+2] == f_list[i+1][j+6] == \n",
    "                     f_list[i+2][j+6] == f_list[i+3][j+2] == f_list[i+3][j+6] =='O' \n",
    "                    and f_list[i+1][j+4] == f_list[i+2][j+4] == f_list[i+3][j+4] != 'O') or\n",
    "                    (f_list[i+1][j+2] == f_list[i+1][j+4] == f_list[i+1][j+6] == \n",
    "                     f_list[i+3][j+2] ==  f_list[i+3][j+4] == f_list[i+3][j+6] == 'O'\n",
    "                    and f_list[i+2][j+2] == f_list[i+2][j+4] == f_list[i+2][j+6] != 'O')):\n",
    "                        occurence_dict[6] += 1 \n",
    "                if ((f_list[i+1][j+2] == f_list[i+2][j+4] == f_list[i+3][j+6] == 'O'\n",
    "                    and f_list[i+1][j+4] == f_list[i+1][j+6] == f_list[i+2][j+2] == \n",
    "                        f_list[i+2][j+6] == f_list[i+3][j+2] == f_list[i+3][j+4] != 'O') or \n",
    "                    (f_list[i+1][j+2] == f_list[i+1][j+4] == f_list[i+2][j+2] == \n",
    "                     f_list[i+2][j+6] == f_list[i+3][j+4] == f_list[i+3][j+6] != 'O'\n",
    "                     and f_list[i+1][j+6] == f_list[i+2][j+4] == f_list[i+3][j+2] == 'O')):\n",
    "                        occurence_dict[3] += 1\n",
    "                if ((f_list[i+1][j+2] == f_list[i+3][j+6] =='O' \n",
    "                    and f_list[i+1][j+4] == f_list[i+1][j+6] == f_list[i+2][j+2] == \n",
    "                        f_list[i+2][j+4] == f_list[i+2][j+6] == f_list[i+3][j+2] == f_list[i+3][j+4] != 'O') or \n",
    "                    (f_list[i+1][j+2] == f_list[i+1][j+4] == f_list[i+2][j+2] == \n",
    "                     f_list[i+2][j+4] == f_list[i+2][j+6] == f_list[i+3][j+4] == f_list[i+3][j+6] != 'O' \n",
    "                     and f_list[i+1][j+6] == f_list[i+3][j+2] == 'O')):\n",
    "                        occurence_dict[2] +=1\n",
    "                if (f_list[i+1][j+2] == f_list[i+1][j+6] == f_list[i+3][j+2] == f_list[i+3][j+6] == 'O' \n",
    "                    and f_list[i+1][j+4] == f_list[i+2][j+2] == f_list[i+2][j+4] == \n",
    "                        f_list[i+2][j+6] == f_list[i+3][j+4] != 'O'):\n",
    "                        occurence_dict[4] +=1\n",
    "                if (f_list[i+1][j+2] == f_list[i+1][j+6] == f_list[i+2][j+4] == \n",
    "                    f_list[i+3][j+2] == f_list[i+3][j+6] =='O' \n",
    "                    and f_list[i+1][j+4] == f_list[i+2][j+2] == f_list[i+2][j+6] == f_list[i+3][j+4] != 'O'):\n",
    "                        occurence_dict[5] +=1\n",
    "                if (f_list[i+1][j+2] == f_list[i+1][j+4] == f_list[i+1][j+6] == f_list[i+2][j+2] == \n",
    "                    f_list[i+2][j+6] == f_list[i+3][j+2] == f_list[i+3][j+4] == f_list[i+3][j+6] != 'O' \n",
    "                    and f_list[i+2][j+4] == 'O'):\n",
    "                        occurence_dict[1] +=1\n",
    "                        \n",
    "    sum_even = 0\n",
    "    sum_odd = 0\n",
    "    for k in occurence_dict:\n",
    "        if k%2 == 0:\n",
    "            sum_even += occurence_dict[k]*k\n",
    "        else:\n",
    "            sum_odd += occurence_dict[k]*k\n",
    "    \n",
    "    return sum_even - sum_odd"
   ]
  },
  {
   "cell_type": "code",
   "execution_count": 24,
   "metadata": {
    "deletable": false,
    "editable": false,
    "nbgrader": {
     "cell_type": "code",
     "checksum": "1024bfb6041c2637486021e31a6c4706",
     "grade": true,
     "grade_id": "Q8b-test",
     "locked": true,
     "points": 15,
     "schema_version": 3,
     "solution": false,
     "task": false
    }
   },
   "outputs": [],
   "source": [
    "# Test your function with the provided test input files\n",
    "\n",
    "assert_equal(dice_diff(\"data/dicemath_input0.txt\"), -3)\n",
    "assert_equal(dice_diff(\"data/dicemath_input1.txt\"), -15)\n",
    "assert_equal(dice_diff(\"data/dicemath_input2.txt\"), 0)\n",
    "assert_equal(dice_diff(\"data/dicemath_input3.txt\"), 8)\n"
   ]
  }
 ],
 "metadata": {
  "kernelspec": {
   "display_name": "Python 3 (ipykernel)",
   "language": "python",
   "name": "python3"
  },
  "language_info": {
   "codemirror_mode": {
    "name": "ipython",
    "version": 3
   },
   "file_extension": ".py",
   "mimetype": "text/x-python",
   "name": "python",
   "nbconvert_exporter": "python",
   "pygments_lexer": "ipython3",
   "version": "3.7.13"
  },
  "toc": {
   "base_numbering": 1,
   "nav_menu": {},
   "number_sections": true,
   "sideBar": true,
   "skip_h1_title": false,
   "title_cell": "Table of Contents",
   "title_sidebar": "Contents",
   "toc_cell": false,
   "toc_position": {},
   "toc_section_display": true,
   "toc_window_display": false
  },
  "varInspector": {
   "cols": {
    "lenName": 16,
    "lenType": 16,
    "lenVar": 40
   },
   "kernels_config": {
    "python": {
     "delete_cmd_postfix": "",
     "delete_cmd_prefix": "del ",
     "library": "var_list.py",
     "varRefreshCmd": "print(var_dic_list())"
    },
    "r": {
     "delete_cmd_postfix": ") ",
     "delete_cmd_prefix": "rm(",
     "library": "var_list.r",
     "varRefreshCmd": "cat(var_dic_list()) "
    }
   },
   "types_to_exclude": [
    "module",
    "function",
    "builtin_function_or_method",
    "instance",
    "_Feature"
   ],
   "window_display": false
  }
 },
 "nbformat": 4,
 "nbformat_minor": 4
}
