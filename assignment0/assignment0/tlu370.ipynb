{
 "cells": [
  {
   "cell_type": "markdown",
   "metadata": {
    "pycharm": {
     "name": "#%% md\n"
    }
   },
   "source": [
    "Before you turn this problem in, make sure everything runs as expected. First, **restart the kernel** (in the menubar, select Kernel$\\rightarrow$Restart) and then **run all cells** (in the menubar, select Cell$\\rightarrow$Run All).\n",
    "\n",
    "Make sure you fill in any place that says `YOUR CODE HERE` (you should of course delete `raise NotImplementedError()` which is there only as reminder), while not modifying the other cells (but you should run them to check the output you obtain). Please also fill in your group number, your full names, and your VU IDs below:"
   ]
  },
  {
   "cell_type": "code",
   "execution_count": 1,
   "metadata": {
    "pycharm": {
     "name": "#%%\n"
    }
   },
   "outputs": [],
   "source": [
    "STUDENT_FIRST_NAME = \"Thu Trang\" # e.g. \"John\" (no \"J\", no \"J.\", no \"John S.M.\")\n",
    "STUDENT_LAST_NAME = \"Luu\"  # e.g. \"Smith\"\n",
    "VU_ID_NUM = \"2695303\"          # e.g. \"2789012\""
   ]
  },
  {
   "cell_type": "markdown",
   "metadata": {
    "pycharm": {
     "name": "#%% md\n"
    }
   },
   "source": [
    "---"
   ]
  },
  {
   "cell_type": "markdown",
   "metadata": {
    "deletable": false,
    "editable": false,
    "nbgrader": {
     "cell_type": "markdown",
     "checksum": "9146b1dab530bfaebe53134936d80e86",
     "grade": false,
     "grade_id": "intro",
     "locked": true,
     "schema_version": 3,
     "solution": false,
     "task": false
    },
    "pycharm": {
     "name": "#%% md\n"
    }
   },
   "source": [
    "# Assignment 0\n",
    "\n",
    "The goal of this mock assignment is just to make you familiar with the rather rigid structure in which you need to submit the three assignments of this course. \n",
    "\n",
    "The fact that is a **mock** assignment means that it *does not count towards your final grade*. Nonetheless, you are warmly encourage to quickly write your solution and submit it so that you can avoid undesirable submission issues or autograder issues for the next three assignments.\n",
    "\n",
    "We assume that the folder that you work in is the one obtained by unzipping the given ``assignment0.zip`` file and thus has the following structure.\n",
    "\n",
    "<code>\n",
    "assignment0.ipynb\n",
    "data/a0_input0.txt\n",
    "data/a0_input1.csv\n",
    "</code>\n",
    "\n",
    "In particular, the subfolder data should have ``2`` files.\n",
    "\n",
    "## Important remarks\n",
    "- **Working together**: You are meant to work individually on the first three assignments. You can, of course, brainstorm ideas and discuss issues with your fellow students, but you are required to write your solutions individually. \n",
    "- **Plagiarism**: All your code will be automatically scanned for plagiarism. Furthermore, using the internet as a passive resource is allowed. This means that you can search for help there and partially copy code, as long as you explicitly acknowledge inside your Jupyter notebook which parts have been copied and from where. \n",
    "- **Performance**: You should optimize the computational performance of your functions. Specifically, when grading the assignments, we set a hard limit of 5 seconds for each cell execution. This should be sufficient to cover each of the test cases. Function calls that take longer than 5 seconds will not be awarded any points.\n",
    "- **Code styling**: Your implementation will not be checked for style. However, we do encourage you to practice good code styling. See, for example, https://docs.python-guide.org/writing/style/.\n",
    "- **Chronological run**: All outputs should be repeatable by doing one full “chronological” run of the notebook without any manual changes to code blocks, including parameters. (try it yourself by clicking ``Kernel -> Restart and run all``, which should give the result as handed in).\n",
    "- **Handing in**: Hand in the .ipynb file of your notebook on ``Canvas`` before the assignment deadline. \n",
    "- **Other questions**: If you have doubts/questions about the assignments, feel free to ask them in [this discussion thread](https://canvas.vu.nl/courses/60060/discussion_topics/531826) so that everyone can will be able to see them and our answers. "
   ]
  },
  {
   "cell_type": "code",
   "execution_count": 2,
   "metadata": {
    "ExecuteTime": {
     "end_time": "2022-05-05T01:23:07.478739Z",
     "start_time": "2022-05-05T01:23:07.476426Z"
    },
    "deletable": false,
    "editable": false,
    "nbgrader": {
     "cell_type": "code",
     "checksum": "d1ffb23835ff212caa5c0f6d9a3dc36e",
     "grade": false,
     "grade_id": "initialize",
     "locked": true,
     "schema_version": 3,
     "solution": false,
     "task": false
    },
    "pycharm": {
     "name": "#%%\n"
    }
   },
   "outputs": [],
   "source": [
    "# Remember to run this cell before anything else\n",
    "\n",
    "from numpy.testing import assert_equal"
   ]
  },
  {
   "cell_type": "markdown",
   "metadata": {
    "deletable": false,
    "editable": false,
    "nbgrader": {
     "cell_type": "markdown",
     "checksum": "04cd169e5360315e83c2da755e039832",
     "grade": false,
     "grade_id": "Q1-task",
     "locked": true,
     "schema_version": 3,
     "solution": false,
     "task": false
    },
    "pycharm": {
     "name": "#%% md\n"
    }
   },
   "source": [
    "## Exercise 1: Reading a file\n",
    "\n",
    "Given a filename, write a function that returns the content of the corresponding file."
   ]
  },
  {
   "cell_type": "code",
   "execution_count": 3,
   "metadata": {
    "deletable": false,
    "nbgrader": {
     "cell_type": "code",
     "checksum": "a6f7a15e6c9f7dabbcd9f371a0302ad5",
     "grade": false,
     "grade_id": "Q1-code",
     "locked": false,
     "schema_version": 3,
     "solution": true,
     "task": false
    },
    "pycharm": {
     "name": "#%%\n"
    }
   },
   "outputs": [],
   "source": [
    "def read_file (filename):\n",
    "    with open (filename) as f:\n",
    "        f_list = f.read()\n",
    "    \n",
    "    return f_list"
   ]
  },
  {
   "cell_type": "code",
   "execution_count": 4,
   "metadata": {
    "deletable": false,
    "editable": false,
    "nbgrader": {
     "cell_type": "code",
     "checksum": "df79c9ad5edabd89263ac9d99b0e639c",
     "grade": true,
     "grade_id": "Q1-test",
     "locked": true,
     "points": 1,
     "schema_version": 3,
     "solution": false,
     "task": false
    },
    "pycharm": {
     "name": "#%%\n"
    }
   },
   "outputs": [],
   "source": [
    "# Test your function on a few possible inputs\n",
    "\n",
    "assert_equal(read_file(\"data/a0_input0.txt\"),\"Welcome to the Project Big Data course!\")\n",
    "assert_equal(read_file(\"data/a0_input1.csv\"),\"1,2,3\\n4,5,6\\n7,8,9\")\n"
   ]
  },
  {
   "cell_type": "code",
   "execution_count": 5,
   "metadata": {},
   "outputs": [],
   "source": [
    "def test (var):\n",
    "    if type(var) == str:\n",
    "        print('type string')\n",
    "    else:\n",
    "        print('type not string')"
   ]
  },
  {
   "cell_type": "code",
   "execution_count": 6,
   "metadata": {},
   "outputs": [
    {
     "name": "stdout",
     "output_type": "stream",
     "text": [
      "type string\n"
     ]
    }
   ],
   "source": [
    "test (\"hello\")"
   ]
  },
  {
   "cell_type": "markdown",
   "metadata": {
    "deletable": false,
    "editable": false,
    "nbgrader": {
     "cell_type": "markdown",
     "checksum": "abaf1732dc34cb70707c9e0247a60a0b",
     "grade": false,
     "grade_id": "Q2-task",
     "locked": true,
     "schema_version": 3,
     "solution": false,
     "task": false
    },
    "pycharm": {
     "name": "#%% md\n"
    }
   },
   "source": [
    "## Exercise 2: Timing your function\n",
    "\n",
    "Write a Python function that return a list of all even numbers between $0$ (included) and $n$ (included, if $n$ is even). Test your function for large integer values $n$ using the magic word ``%time even_numbers(n)``.\n",
    "\n",
    "Your function will be tested for $n$ up to $10^7$, so make sure it is efficient and runs fast enough (< 5 seconds)."
   ]
  },
  {
   "cell_type": "code",
   "execution_count": 5,
   "metadata": {
    "deletable": false,
    "nbgrader": {
     "cell_type": "code",
     "checksum": "86fe975735053213f6b4a913d1caa32b",
     "grade": false,
     "grade_id": "Q2-code",
     "locked": false,
     "schema_version": 3,
     "solution": true,
     "task": false
    },
    "pycharm": {
     "name": "#%%\n"
    }
   },
   "outputs": [],
   "source": [
    "def even_numbers(n):    \n",
    "    # create input list\n",
    "    input = list(range(n+1))\n",
    "    \n",
    "    # find evens\n",
    "    result = input[::2]\n",
    "    \n",
    "    return result"
   ]
  },
  {
   "cell_type": "code",
   "execution_count": 6,
   "metadata": {
    "deletable": false,
    "editable": false,
    "nbgrader": {
     "cell_type": "code",
     "checksum": "247f88bd780bf93f4176fd572e831ca2",
     "grade": true,
     "grade_id": "Q2-test",
     "locked": true,
     "points": 1,
     "schema_version": 3,
     "solution": false,
     "task": false
    },
    "pycharm": {
     "name": "#%%\n"
    }
   },
   "outputs": [
    {
     "name": "stdout",
     "output_type": "stream",
     "text": [
      "Wall time: 0 ns\n",
      "\n",
      "Test 0. Your function took 2.000000000279556e-06 seconds when given n=10 as input.\n",
      "\n",
      "Test 1. Your function took 2.299999999344493e-06 seconds when given n=100 as input.\n",
      "\n",
      "Test 2. Your function took 5.489999999941375e-05 seconds when given n=1000 as input.\n",
      "\n",
      "Test 3. Your function took 0.00028149999999982356 seconds when given n=10000 as input.\n",
      "\n",
      "Test 4. Your function took 0.010506399999999694 seconds when given n=100000 as input.\n",
      "\n",
      "Test 5. Your function took 0.029455200000000126 seconds when given n=1000000 as input.\n",
      "\n",
      "Test 6. Your function took 0.4136793000000001 seconds when given n=10000000 as input.\n"
     ]
    }
   ],
   "source": [
    "# Test the correctness of your function on a few possible inputs while \n",
    "\n",
    "assert_equal(even_numbers(10), [0, 2, 4, 6, 8, 10])\n",
    "assert_equal(even_numbers(40), [0, 2, 4, 6, 8, 10, 12, 14, 16, 18, 20, 22, 24, 26, 28, 30, 32, 34, 36, 38, 40])\n",
    "\n",
    "# To check how long your function takes you can use the following\n",
    "\n",
    "%time even_numbers(40)\n",
    "\n",
    "# Check what the running time is for larger inputs up to 10^7 and make sure is less than 2 seconds. \n",
    "# Note that the correctedness of the output is not checked.\n",
    "\n",
    "from time import perf_counter\n",
    "\n",
    "lengths = [10, 100, 1000, 10000, 100000, 1000000, 10000000]\n",
    "\n",
    "for i, n in enumerate(lengths):\n",
    "    \n",
    "    t_start = perf_counter()\n",
    "    e = even_numbers(n)\n",
    "    t_stop = perf_counter()\n",
    "    print(f\"\\nTest {i}. Your function took {t_stop-t_start} seconds when given n={n} as input.\")\n"
   ]
  }
 ],
 "metadata": {
  "kernelspec": {
   "display_name": "Python 3 (ipykernel)",
   "language": "python",
   "name": "python3"
  },
  "language_info": {
   "codemirror_mode": {
    "name": "ipython",
    "version": 3
   },
   "file_extension": ".py",
   "mimetype": "text/x-python",
   "name": "python",
   "nbconvert_exporter": "python",
   "pygments_lexer": "ipython3",
   "version": "3.7.13"
  },
  "toc": {
   "base_numbering": 1,
   "nav_menu": {},
   "number_sections": true,
   "sideBar": true,
   "skip_h1_title": false,
   "title_cell": "Table of Contents",
   "title_sidebar": "Contents",
   "toc_cell": false,
   "toc_position": {},
   "toc_section_display": true,
   "toc_window_display": false
  },
  "varInspector": {
   "cols": {
    "lenName": 16,
    "lenType": 16,
    "lenVar": 40
   },
   "kernels_config": {
    "python": {
     "delete_cmd_postfix": "",
     "delete_cmd_prefix": "del ",
     "library": "var_list.py",
     "varRefreshCmd": "print(var_dic_list())"
    },
    "r": {
     "delete_cmd_postfix": ") ",
     "delete_cmd_prefix": "rm(",
     "library": "var_list.r",
     "varRefreshCmd": "cat(var_dic_list()) "
    }
   },
   "types_to_exclude": [
    "module",
    "function",
    "builtin_function_or_method",
    "instance",
    "_Feature"
   ],
   "window_display": false
  }
 },
 "nbformat": 4,
 "nbformat_minor": 4
}
